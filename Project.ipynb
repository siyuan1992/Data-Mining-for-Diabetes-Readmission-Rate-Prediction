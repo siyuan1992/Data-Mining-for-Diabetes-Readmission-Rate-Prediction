{
 "cells": [
  {
   "cell_type": "code",
   "execution_count": 1,
   "metadata": {
    "collapsed": false
   },
   "outputs": [
    {
     "name": "stderr",
     "output_type": "stream",
     "text": [
      "A newer version of GraphLab Create (v1.7.1) is available! Your current version is v1.6.1.\n",
      "\n",
      "You can use pip to upgrade the graphlab-create package. For more information see https://dato.com/products/create/upgrade.\n"
     ]
    }
   ],
   "source": [
    "import graphlab"
   ]
  },
  {
   "cell_type": "code",
   "execution_count": 2,
   "metadata": {
    "collapsed": false
   },
   "outputs": [
    {
     "data": {
      "text/plain": [
       "'1.6.1'"
      ]
     },
     "execution_count": 2,
     "metadata": {},
     "output_type": "execute_result"
    }
   ],
   "source": [
    "graphlab.version"
   ]
  },
  {
   "cell_type": "markdown",
   "metadata": {},
   "source": [
    "# Import data (continue R)"
   ]
  },
  {
   "cell_type": "code",
   "execution_count": 173,
   "metadata": {
    "collapsed": false
   },
   "outputs": [
    {
     "name": "stdout",
     "output_type": "stream",
     "text": [
      "PROGRESS: Finished parsing file /Users/siyuanmeng/Documents/2015Fall/EE660/EE660_Project/training.csv\n",
      "PROGRESS: Parsing completed. Parsed 100 lines in 0.589122 secs.\n",
      "------------------------------------------------------\n",
      "Inferred types from first line of file as \n",
      "column_type_hints=[float,float,float,float,float,float,float,float,float,float,float,float,float,float,float,float,float,float,float,float,float,float,float,float,float,float,float,float,float,float,float,float,float,float,int]\n",
      "If parsing fails due to incorrect types, you can correct\n",
      "the inferred type list above and pass it to read_csv in\n",
      "the column_type_hints argument\n",
      "------------------------------------------------------\n",
      "PROGRESS: Finished parsing file /Users/siyuanmeng/Documents/2015Fall/EE660/EE660_Project/training.csv\n",
      "PROGRESS: Parsing completed. Parsed 54905 lines in 0.62949 secs.\n",
      "PROGRESS: Finished parsing file /Users/siyuanmeng/Documents/2015Fall/EE660/EE660_Project/test.csv\n",
      "PROGRESS: Parsing completed. Parsed 100 lines in 0.141412 secs.\n",
      "------------------------------------------------------\n",
      "Inferred types from first line of file as \n",
      "column_type_hints=[float,float,float,float,float,float,float,float,float,float,float,float,float,float,float,float,float,float,float,float,float,float,float,float,float,float,float,float,float,float,float,float,float,float,int]\n",
      "If parsing fails due to incorrect types, you can correct\n",
      "the inferred type list above and pass it to read_csv in\n",
      "the column_type_hints argument\n",
      "------------------------------------------------------\n",
      "PROGRESS: Finished parsing file /Users/siyuanmeng/Documents/2015Fall/EE660/EE660_Project/test.csv\n",
      "PROGRESS: Parsing completed. Parsed 13725 lines in 0.151491 secs.\n"
     ]
    }
   ],
   "source": [
    "training = graphlab.SFrame.read_csv('training.csv')\n",
    "test = graphlab.SFrame.read_csv('test.csv')"
   ]
  },
  {
   "cell_type": "code",
   "execution_count": 174,
   "metadata": {
    "collapsed": false
   },
   "outputs": [
    {
     "data": {
      "application/javascript": [
       "$(\"head\").append($(\"<link/>\").attr({\n",
       "  rel:  \"stylesheet\",\n",
       "  type: \"text/css\",\n",
       "  href: \"//cdnjs.cloudflare.com/ajax/libs/font-awesome/4.1.0/css/font-awesome.min.css\"\n",
       "}));\n",
       "$(\"head\").append($(\"<link/>\").attr({\n",
       "  rel:  \"stylesheet\",\n",
       "  type: \"text/css\",\n",
       "  href: \"//dato.com/files/canvas/1.6.1/css/canvas.css\"\n",
       "}));\n",
       "\n",
       "            (function(){\n",
       "\n",
       "                var e = null;\n",
       "                if (typeof element == 'undefined') {\n",
       "                    var scripts = document.getElementsByTagName('script');\n",
       "                    var thisScriptTag = scripts[scripts.length-1];\n",
       "                    var parentDiv = thisScriptTag.parentNode;\n",
       "                    e = document.createElement('div');\n",
       "                    parentDiv.appendChild(e);\n",
       "                } else {\n",
       "                    e = element[0];\n",
       "                }\n",
       "\n",
       "                if (typeof requirejs !== 'undefined') {\n",
       "                    // disable load timeout; ipython_app.js is large and can take a while to load.\n",
       "                    requirejs.config({waitSeconds: 0});\n",
       "                }\n",
       "\n",
       "                require(['//dato.com/files/canvas/1.6.1/js/ipython_app.js'], function(IPythonApp){\n",
       "                    var app = new IPythonApp();\n",
       "                    app.attachView('sarray','Numeric', {\"ipython\": true, \"sketch\": {\"std\": 0.6545882626047473, \"complete\": true, \"min\": 1.0, \"max\": 3.0, \"quantile\": [1.0, 1.0, 1.0, 1.0, 1.0, 1.0, 1.0, 1.0, 1.0, 2.0, 2.0, 2.0, 2.0, 2.0, 2.0, 2.0, 2.0, 2.0, 2.0, 2.0, 2.0, 2.0, 2.0, 2.0, 2.0, 2.0, 2.0, 2.0, 2.0, 2.0, 2.0, 2.0, 2.0, 2.0, 2.0, 2.0, 2.0, 2.0, 2.0, 2.0, 2.0, 3.0, 3.0, 3.0, 3.0, 3.0, 3.0, 3.0, 3.0, 3.0, 3.0, 3.0, 3.0, 3.0, 3.0, 3.0, 3.0, 3.0, 3.0, 3.0, 3.0, 3.0, 3.0, 3.0, 3.0, 3.0, 3.0, 3.0, 3.0, 3.0, 3.0, 3.0, 3.0, 3.0, 3.0, 3.0, 3.0, 3.0, 3.0, 3.0, 3.0, 3.0, 3.0, 3.0, 3.0, 3.0, 3.0, 3.0, 3.0, 3.0, 3.0, 3.0, 3.0, 3.0, 3.0, 3.0, 3.0, 3.0, 3.0, 3.0, 3.0], \"median\": 3.0, \"numeric\": true, \"num_unique\": 3, \"num_undefined\": 0, \"var\": 0.4284857935399016, \"progress\": 1.0, \"size\": 54905, \"frequent_items\": {\"1\": {\"frequency\": 4901, \"value\": 1}, \"2\": {\"frequency\": 17300, \"value\": 2}, \"3\": {\"frequency\": 32704, \"value\": 3}}, \"mean\": 2.5063837537564924}, \"selected_variable\": {\"name\": [\"<SArray>\"], \"dtype\": \"int\", \"view_component\": \"Numeric\", \"view_file\": \"sarray\", \"descriptives\": {\"rows\": 54905}, \"type\": \"SArray\", \"view_components\": [\"Numeric\", \"Categorical\"]}, \"histogram\": {\"progress\": 1.0, \"histogram\": {\"max\": 3.0263906250015, \"bins\": [4901, 0, 0, 0, 0, 0, 17300, 0, 0, 0, 0, 32704], \"min\": 0.9679218750015002}, \"min\": 1, \"complete\": 1, \"max\": 3}}, e);\n",
       "                });\n",
       "            })();\n",
       "        "
      ]
     },
     "metadata": {},
     "output_type": "display_data"
    }
   ],
   "source": [
    "graphlab.canvas.set_target('ipynb')\n",
    "training['training_label'].show()"
   ]
  },
  {
   "cell_type": "markdown",
   "metadata": {},
   "source": [
    "# Training and validation"
   ]
  },
  {
   "cell_type": "code",
   "execution_count": 176,
   "metadata": {
    "collapsed": false
   },
   "outputs": [
    {
     "name": "stdout",
     "output_type": "stream",
     "text": [
      "PROGRESS: Creating a validation set from 5 percent of training data. This may take a while.\n",
      "          You can set ``validation_set=None`` to disable validation tracking.\n",
      "\n",
      "PROGRESS: Boosted trees classifier:\n",
      "PROGRESS: --------------------------------------------------------\n",
      "PROGRESS: Number of examples          : 52169\n",
      "PROGRESS: Number of classes           : 3\n",
      "PROGRESS: Number of feature columns   : 34\n",
      "PROGRESS: Number of unpacked features : 34\n",
      "PROGRESS: Starting Boosted Trees\n",
      "PROGRESS: --------------------------------------------------------\n",
      "PROGRESS:   Iter      Accuracy          Elapsed time\n",
      "PROGRESS:         (training) (validation)\n",
      "PROGRESS:      0   6.130e-01   6.027e-01        0.36s\n",
      "PROGRESS:      1   6.155e-01   6.042e-01        0.82s\n",
      "PROGRESS:      2   6.180e-01   6.034e-01        1.11s\n",
      "PROGRESS:      3   6.191e-01   6.031e-01        1.54s\n",
      "PROGRESS:      4   6.201e-01   6.053e-01        1.84s\n",
      "PROGRESS:      5   6.211e-01   6.056e-01        2.16s\n",
      "PROGRESS:      6   6.229e-01   6.056e-01        2.45s\n",
      "PROGRESS:      7   6.238e-01   6.078e-01        2.74s\n",
      "PROGRESS:      8   6.256e-01   6.100e-01        3.02s\n",
      "PROGRESS:      9   6.268e-01   6.093e-01        3.31s\n",
      "PROGRESS:     10   6.276e-01   6.096e-01        3.60s\n",
      "PROGRESS:     11   6.286e-01   6.075e-01        3.89s\n",
      "PROGRESS:     12   6.296e-01   6.093e-01        4.17s\n",
      "PROGRESS:     13   6.309e-01   6.075e-01        4.46s\n",
      "PROGRESS:     14   6.313e-01   6.071e-01        4.76s\n",
      "PROGRESS:     15   6.328e-01   6.067e-01        5.06s\n",
      "PROGRESS:     16   6.334e-01   6.078e-01        5.35s\n",
      "PROGRESS:     17   6.340e-01   6.100e-01        5.64s\n",
      "PROGRESS:     18   6.345e-01   6.086e-01        5.93s\n",
      "PROGRESS:     19   6.351e-01   6.096e-01        6.22s\n",
      "PROGRESS:     20   6.352e-01   6.100e-01        6.50s\n",
      "PROGRESS:     21   6.358e-01   6.093e-01        6.80s\n",
      "PROGRESS:     22   6.370e-01   6.082e-01        7.10s\n",
      "PROGRESS:     23   6.376e-01   6.067e-01        7.38s\n",
      "PROGRESS:     24   6.385e-01   6.067e-01        7.68s\n",
      "PROGRESS:     25   6.390e-01   6.075e-01        7.97s\n",
      "PROGRESS:     26   6.393e-01   6.078e-01        8.26s\n",
      "PROGRESS:     27   6.403e-01   6.075e-01        8.54s\n",
      "PROGRESS:     28   6.406e-01   6.075e-01        8.84s\n",
      "PROGRESS:     29   6.421e-01   6.071e-01        9.13s\n"
     ]
    }
   ],
   "source": [
    "model_boost = graphlab.boosted_trees_classifier.create(training,'training_label',max_iterations=30,class_weights={1:})"
   ]
  },
  {
   "cell_type": "markdown",
   "metadata": {},
   "source": [
    "# Testing"
   ]
  },
  {
   "cell_type": "code",
   "execution_count": 177,
   "metadata": {
    "collapsed": false
   },
   "outputs": [],
   "source": [
    "predictions = model_boost.classify(test)"
   ]
  },
  {
   "cell_type": "code",
   "execution_count": 179,
   "metadata": {
    "collapsed": false
   },
   "outputs": [
    {
     "data": {
      "text/html": [
       "<div style=\"max-height:1000px;max-width:1500px;overflow:auto;\"><table frame=\"box\" rules=\"cols\">\n",
       "    <tr>\n",
       "        <th style=\"padding-left: 1em; padding-right: 1em; text-align: center\">target_label</th>\n",
       "        <th style=\"padding-left: 1em; padding-right: 1em; text-align: center\">predicted_label</th>\n",
       "        <th style=\"padding-left: 1em; padding-right: 1em; text-align: center\">count</th>\n",
       "    </tr>\n",
       "    <tr>\n",
       "        <td style=\"padding-left: 1em; padding-right: 1em; text-align: center; vertical-align: top\">2</td>\n",
       "        <td style=\"padding-left: 1em; padding-right: 1em; text-align: center; vertical-align: top\">1</td>\n",
       "        <td style=\"padding-left: 1em; padding-right: 1em; text-align: center; vertical-align: top\">15</td>\n",
       "    </tr>\n",
       "    <tr>\n",
       "        <td style=\"padding-left: 1em; padding-right: 1em; text-align: center; vertical-align: top\">1</td>\n",
       "        <td style=\"padding-left: 1em; padding-right: 1em; text-align: center; vertical-align: top\">2</td>\n",
       "        <td style=\"padding-left: 1em; padding-right: 1em; text-align: center; vertical-align: top\">194</td>\n",
       "    </tr>\n",
       "    <tr>\n",
       "        <td style=\"padding-left: 1em; padding-right: 1em; text-align: center; vertical-align: top\">3</td>\n",
       "        <td style=\"padding-left: 1em; padding-right: 1em; text-align: center; vertical-align: top\">1</td>\n",
       "        <td style=\"padding-left: 1em; padding-right: 1em; text-align: center; vertical-align: top\">5</td>\n",
       "    </tr>\n",
       "    <tr>\n",
       "        <td style=\"padding-left: 1em; padding-right: 1em; text-align: center; vertical-align: top\">2</td>\n",
       "        <td style=\"padding-left: 1em; padding-right: 1em; text-align: center; vertical-align: top\">3</td>\n",
       "        <td style=\"padding-left: 1em; padding-right: 1em; text-align: center; vertical-align: top\">3486</td>\n",
       "    </tr>\n",
       "    <tr>\n",
       "        <td style=\"padding-left: 1em; padding-right: 1em; text-align: center; vertical-align: top\">1</td>\n",
       "        <td style=\"padding-left: 1em; padding-right: 1em; text-align: center; vertical-align: top\">1</td>\n",
       "        <td style=\"padding-left: 1em; padding-right: 1em; text-align: center; vertical-align: top\">10</td>\n",
       "    </tr>\n",
       "    <tr>\n",
       "        <td style=\"padding-left: 1em; padding-right: 1em; text-align: center; vertical-align: top\">3</td>\n",
       "        <td style=\"padding-left: 1em; padding-right: 1em; text-align: center; vertical-align: top\">3</td>\n",
       "        <td style=\"padding-left: 1em; padding-right: 1em; text-align: center; vertical-align: top\">7542</td>\n",
       "    </tr>\n",
       "    <tr>\n",
       "        <td style=\"padding-left: 1em; padding-right: 1em; text-align: center; vertical-align: top\">2</td>\n",
       "        <td style=\"padding-left: 1em; padding-right: 1em; text-align: center; vertical-align: top\">2</td>\n",
       "        <td style=\"padding-left: 1em; padding-right: 1em; text-align: center; vertical-align: top\">823</td>\n",
       "    </tr>\n",
       "    <tr>\n",
       "        <td style=\"padding-left: 1em; padding-right: 1em; text-align: center; vertical-align: top\">1</td>\n",
       "        <td style=\"padding-left: 1em; padding-right: 1em; text-align: center; vertical-align: top\">3</td>\n",
       "        <td style=\"padding-left: 1em; padding-right: 1em; text-align: center; vertical-align: top\">1021</td>\n",
       "    </tr>\n",
       "    <tr>\n",
       "        <td style=\"padding-left: 1em; padding-right: 1em; text-align: center; vertical-align: top\">3</td>\n",
       "        <td style=\"padding-left: 1em; padding-right: 1em; text-align: center; vertical-align: top\">2</td>\n",
       "        <td style=\"padding-left: 1em; padding-right: 1em; text-align: center; vertical-align: top\">629</td>\n",
       "    </tr>\n",
       "</table>\n",
       "[9 rows x 3 columns]<br/>\n",
       "</div>"
      ],
      "text/plain": [
       "Columns:\n",
       "\ttarget_label\tint\n",
       "\tpredicted_label\tint\n",
       "\tcount\tint\n",
       "\n",
       "Rows: 9\n",
       "\n",
       "Data:\n",
       "+--------------+-----------------+-------+\n",
       "| target_label | predicted_label | count |\n",
       "+--------------+-----------------+-------+\n",
       "|      2       |        1        |   15  |\n",
       "|      1       |        2        |  194  |\n",
       "|      3       |        1        |   5   |\n",
       "|      2       |        3        |  3486 |\n",
       "|      1       |        1        |   10  |\n",
       "|      3       |        3        |  7542 |\n",
       "|      2       |        2        |  823  |\n",
       "|      1       |        3        |  1021 |\n",
       "|      3       |        2        |  629  |\n",
       "+--------------+-----------------+-------+\n",
       "[9 rows x 3 columns]"
      ]
     },
     "execution_count": 179,
     "metadata": {},
     "output_type": "execute_result"
    }
   ],
   "source": [
    "graphlab.evaluation.confusion_matrix(test['test_label'], predictions['class'])"
   ]
  },
  {
   "cell_type": "code",
   "execution_count": 181,
   "metadata": {
    "collapsed": false
   },
   "outputs": [
    {
     "data": {
      "text/plain": [
       "0.6102003642987249"
      ]
     },
     "execution_count": 181,
     "metadata": {},
     "output_type": "execute_result"
    }
   ],
   "source": [
    "graphlab.evaluation.accuracy(test['test_label'], predictions['class'])"
   ]
  },
  {
   "cell_type": "code",
   "execution_count": 98,
   "metadata": {
    "collapsed": false
   },
   "outputs": [
    {
     "name": "stdout",
     "output_type": "stream",
     "text": [
      "PROGRESS: Creating a validation set from 5 percent of training data. This may take a while.\n",
      "          You can set ``validation_set=None`` to disable validation tracking.\n",
      "\n",
      "PROGRESS: Logistic regression:\n",
      "PROGRESS: --------------------------------------------------------\n",
      "PROGRESS: Number of examples          : 52206\n",
      "PROGRESS: Number of classes           : 3\n",
      "PROGRESS: Number of feature columns   : 10\n",
      "PROGRESS: Number of unpacked features : 10\n",
      "PROGRESS: Number of coefficients    : 22\n",
      "PROGRESS: Starting Newton Method\n",
      "PROGRESS: --------------------------------------------------------\n",
      "PROGRESS: +-----------+----------+--------------+-------------------+---------------------+\n",
      "PROGRESS: | Iteration | Passes   | Elapsed Time | Training-accuracy | Validation-accuracy |\n",
      "PROGRESS: +-----------+----------+--------------+-------------------+---------------------+\n",
      "PROGRESS: | 1         | 2        | 0.136022     | 0.594912          | 0.595776            |\n",
      "PROGRESS: | 2         | 3        | 0.243504     | 0.594855          | 0.596147            |\n",
      "PROGRESS: | 3         | 4        | 0.366373     | 0.594874          | 0.594665            |\n",
      "PROGRESS: | 4         | 5        | 0.478218     | 0.594874          | 0.594294            |\n",
      "PROGRESS: | 5         | 6        | 0.586686     | 0.594874          | 0.594294            |\n",
      "PROGRESS: +-----------+----------+--------------+-------------------+---------------------+\n"
     ]
    },
    {
     "data": {
      "text/plain": [
       "Class                         : LogisticClassifier\n",
       "\n",
       "Schema\n",
       "------\n",
       "Number of coefficients        : 22\n",
       "Number of examples            : 52206\n",
       "Number of classes             : 3\n",
       "Number of feature columns     : 10\n",
       "Number of unpacked features   : 10\n",
       "\n",
       "Hyperparameters\n",
       "---------------\n",
       "L1 penalty                    : 0.0\n",
       "L2 penalty                    : 0.01\n",
       "\n",
       "Training Summary\n",
       "----------------\n",
       "Solver                        : auto\n",
       "Solver iterations             : 5\n",
       "Solver status                 : SUCCESS: Optimal solution found.\n",
       "Training time (sec)           : 0.6246\n",
       "\n",
       "Settings\n",
       "--------\n",
       "Log-likelihood                : 45790.3809\n",
       "\n",
       "Highest Positive Coefficients\n",
       "-----------------------------\n",
       "(intercept)                   : 1.9309\n",
       "(intercept)                   : 1.2884\n",
       "PC3                           : 0.1227\n",
       "PC1                           : 0.0656\n",
       "PC5                           : 0.0616\n",
       "\n",
       "Lowest Negative Coefficients\n",
       "----------------------------\n",
       "PC4                           : -0.1325\n",
       "PC4                           : -0.0891\n",
       "PC2                           : -0.0616\n",
       "PC8                           : -0.0501\n",
       "PC8                           : -0.041"
      ]
     },
     "execution_count": 98,
     "metadata": {},
     "output_type": "execute_result"
    }
   ],
   "source": [
    "graphlab.logistic_classifier.create(training,'training_label')"
   ]
  },
  {
   "cell_type": "code",
   "execution_count": null,
   "metadata": {
    "collapsed": true
   },
   "outputs": [],
   "source": []
  }
 ],
 "metadata": {
  "kernelspec": {
   "display_name": "Python 2",
   "language": "python",
   "name": "python2"
  },
  "language_info": {
   "codemirror_mode": {
    "name": "ipython",
    "version": 2
   },
   "file_extension": ".py",
   "mimetype": "text/x-python",
   "name": "python",
   "nbconvert_exporter": "python",
   "pygments_lexer": "ipython2",
   "version": "2.7.10"
  }
 },
 "nbformat": 4,
 "nbformat_minor": 0
}
